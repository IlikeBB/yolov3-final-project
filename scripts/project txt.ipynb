{
 "cells": [
  {
   "cell_type": "code",
   "execution_count": 1,
   "metadata": {},
   "outputs": [],
   "source": [
    "import os\n",
    "\n",
    "def main(src, dest):\n",
    "    out_file = open(dest,'w')  #生成了在指定目录下的txt文件  \n",
    "    with open(dest, 'w') as f:\n",
    "        for name in os.listdir(src):\n",
    "            base_name = os.path.basename(name)\n",
    "            file_name = base_name.split('.')[0]\n",
    "            f.write('%s\\n' % file_name)\n",
    "\n",
    "if __name__ == '__main__':\n",
    "    TrainDir = 'VOC2007/ImageJPEG/val'  #图片文件所在目录\n",
    "    target = 'VOC2007/labels/label_val.txt'\n",
    "    main(TrainDir, target)"
   ]
  }
 ],
 "metadata": {
  "kernelspec": {
   "display_name": "Python 3",
   "language": "python",
   "name": "python3"
  },
  "language_info": {
   "codemirror_mode": {
    "name": "ipython",
    "version": 3
   },
   "file_extension": ".py",
   "mimetype": "text/x-python",
   "name": "python",
   "nbconvert_exporter": "python",
   "pygments_lexer": "ipython3",
   "version": "3.6.8"
  }
 },
 "nbformat": 4,
 "nbformat_minor": 2
}
